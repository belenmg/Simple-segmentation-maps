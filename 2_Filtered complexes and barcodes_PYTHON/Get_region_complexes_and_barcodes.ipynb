{
 "cells": [
  {
   "cell_type": "code",
   "execution_count": 1,
   "id": "cc8afc0e",
   "metadata": {},
   "outputs": [],
   "source": [
    "import Aux_Read_txt as rd\n",
    "import Aux_Save_data as sd\n",
    "import Aux_Persistence_homology as ph\n",
    "import Algorithm_regions_complexes as rc\n",
    "import os\n",
    "import re #remove characters from a string"
   ]
  },
  {
   "cell_type": "code",
   "execution_count": 9,
   "id": "ce5f6d06",
   "metadata": {},
   "outputs": [],
   "source": [
    "folders = ['Simple images','Cell images','New images']\n",
    "\n",
    "for t in folders:\n",
    "    path2 = '../1_Preprocessing/'\n",
    "    p2 = path2 + 'B_Labelled images/' + t + '/'\n",
    "    p3 = path2 + 'C_Used regions/' + t + '/'\n",
    "    p4 = path2 + 'D_Centroids/' + t + '/'\n",
    "\n",
    "    dir_labeled_im = os.listdir(p2)\n",
    "    dir_valid_regions = os.listdir(p3)\n",
    "    dir_centroids = os.listdir(p4)\n",
    "\n",
    "    for i in range(len(dir_labeled_im)):\n",
    "    \n",
    "        name = re.sub('_labels.txt','',dir_labeled_im[i])\n",
    "    \n",
    "        p_img = p2 + dir_labeled_im[i] \n",
    "        p_valid_regions = p3 + dir_valid_regions[i]\n",
    "        p_cm = p4 + dir_centroids[i]\n",
    "    \n",
    "        I = rd.read_txt(p_img)\n",
    "        valid_regions = rd.read_txt(p_valid_regions)\n",
    "        cm = rd.read_txt2(p_cm)\n",
    "    \n",
    "        F_simplices,F_filter,F_pixel = rc.region_complex(I,cm)\n",
    "        F_simplices_v,F_filter_v,F_pixel_v = rc.valid_region_complex(valid_regions,F_simplices,F_filter,F_pixel)\n",
    "\n",
    "        H = ph.homology(F_simplices_v, F_filter_v)\n",
    "    \n",
    "        p_region_complex = '../3_Results/Filtered complexes/Region complexes/' + t + '/txt/' + name + '_region_complex.txt'\n",
    "        sd.save_complex(p_region_complex, F_simplices_v, F_filter_v)\n",
    "    \n",
    "        p_region_perst = '../3_Results/Barcodes/Region complexes/' + t + '/txt/' + name + '_region_perst.txt'\n",
    "        sd.save_perst(p_region_perst, H)"
   ]
  },
  {
   "cell_type": "code",
   "execution_count": null,
   "id": "6c89120c",
   "metadata": {},
   "outputs": [],
   "source": []
  }
 ],
 "metadata": {
  "kernelspec": {
   "display_name": "Python 3",
   "language": "python",
   "name": "python3"
  },
  "language_info": {
   "codemirror_mode": {
    "name": "ipython",
    "version": 3
   },
   "file_extension": ".py",
   "mimetype": "text/x-python",
   "name": "python",
   "nbconvert_exporter": "python",
   "pygments_lexer": "ipython3",
   "version": "3.8.8"
  }
 },
 "nbformat": 4,
 "nbformat_minor": 5
}
